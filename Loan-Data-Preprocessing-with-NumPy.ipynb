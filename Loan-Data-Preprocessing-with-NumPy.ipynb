{
 "cells": [
  {
   "cell_type": "code",
   "execution_count": 54,
   "id": "506c77e5-fc10-4256-a021-fd7c82208a7d",
   "metadata": {},
   "outputs": [],
   "source": [
    "import numpy as np\n",
    "np.set_printoptions(suppress = True, linewidth = 100, precision = 2)\n",
    "\n",
    "import warnings\n",
    "warnings.filterwarnings(\"ignore\")"
   ]
  },
  {
   "cell_type": "code",
   "execution_count": 55,
   "id": "87546b83-0926-4b11-a65b-9bc2c233b749",
   "metadata": {},
   "outputs": [
    {
     "data": {
      "text/plain": [
       "array([[48010226.  ,         nan,    35000.  , ...,         nan,         nan,     9452.96],\n",
       "       [57693261.  ,         nan,    30000.  , ...,         nan,         nan,     4679.7 ],\n",
       "       [59432726.  ,         nan,    15000.  , ...,         nan,         nan,     1969.83],\n",
       "       ...,\n",
       "       [50415990.  ,         nan,    10000.  , ...,         nan,         nan,     2185.64],\n",
       "       [46154151.  ,         nan,         nan, ...,         nan,         nan,     3199.4 ],\n",
       "       [66055249.  ,         nan,    10000.  , ...,         nan,         nan,      301.9 ]])"
      ]
     },
     "execution_count": 55,
     "metadata": {},
     "output_type": "execute_result"
    }
   ],
   "source": [
    "raw_data_np = np.genfromtxt(\"loan-data.csv\", delimiter = ';', skip_header = 1, autostrip = True, encoding = 'latin9')\n",
    "raw_data_np"
   ]
  },
  {
   "cell_type": "markdown",
   "id": "318b3a3a-25d3-4b60-abb2-ed8f94be6aac",
   "metadata": {},
   "source": [
    "## Checking for Missing Values"
   ]
  },
  {
   "cell_type": "code",
   "execution_count": 56,
   "id": "a7bbad5a-7b59-4e72-9f42-93f09feaa2dc",
   "metadata": {},
   "outputs": [
    {
     "name": "stdout",
     "output_type": "stream",
     "text": [
      "This dataset has : 88005 missing values\n"
     ]
    }
   ],
   "source": [
    "print('This dataset has : ' + str(np.isnan(raw_data_np).sum()) + ' missing values')"
   ]
  },
  {
   "cell_type": "code",
   "execution_count": 57,
   "id": "a400df96-2712-45a9-b1e4-b048fee80e01",
   "metadata": {},
   "outputs": [],
   "source": [
    "tmp_fill = np.nanmax(raw_data_np) + 1\n",
    "tmp_stats = np.array([np.nanmin(raw_data_np, axis = 0),# Minimum value of each column\n",
    "                           np.nanmean(raw_data_np, axis = 0),# Mean value of each column\n",
    "                           np.nanmax(raw_data_np, axis = 0)])# Maximum value of each column"
   ]
  },
  {
   "cell_type": "markdown",
   "id": "4065894a-0f7d-49c9-958a-642adeaa908a",
   "metadata": {},
   "source": [
    "When handling missing values in loan data, it is better always to assume the worst because some people withhold information that reduces their chance of getting a loan. Therefore, I will assume the worst and do the following:\n",
    "\n",
    "- Fill the following columns with a **maximum value**: \"Loaned Amount,\" \"Interest Rate,\" \"Total Payment,\" and \"Installment\" (according to the maximum value of each column).\n",
    "- Fill the \"Funded Amount\" column with its **minimum value**."
   ]
  },
  {
   "cell_type": "markdown",
   "id": "27097dfb-b336-405f-99a9-80b07329d000",
   "metadata": {},
   "source": [
    "## Dividing the Dataset into Numeric and String Data"
   ]
  },
  {
   "cell_type": "code",
   "execution_count": 58,
   "id": "1f3fd303-e288-4c17-ae8e-42597a200bcf",
   "metadata": {},
   "outputs": [],
   "source": [
    "# Creating an array that contains only indexes of string columns\n",
    "columns_strings = np.argwhere(np.isnan(tmp_stats[1])).squeeze()\n",
    "\n",
    "# Creating an array that contains only indexes of numeric columns\n",
    "columns_numeric = np.argwhere(np.isnan(tmp_stats[1]) == False).squeeze()"
   ]
  },
  {
   "cell_type": "code",
   "execution_count": 59,
   "id": "7370d7d6-e186-491d-a8cf-9a867011c6fd",
   "metadata": {},
   "outputs": [
    {
     "data": {
      "text/plain": [
       "array([['May-15', 'Current', '36 months', ..., 'Verified',\n",
       "        'https://www.lendingclub.com/browse/loanDetail.action?loan_id=48010226', 'CA'],\n",
       "       ['', 'Current', '36 months', ..., 'Source Verified',\n",
       "        'https://www.lendingclub.com/browse/loanDetail.action?loan_id=57693261', 'NY'],\n",
       "       ['Sep-15', 'Current', '36 months', ..., 'Verified',\n",
       "        'https://www.lendingclub.com/browse/loanDetail.action?loan_id=59432726', 'PA'],\n",
       "       ...,\n",
       "       ['Jun-15', 'Current', '36 months', ..., 'Source Verified',\n",
       "        'https://www.lendingclub.com/browse/loanDetail.action?loan_id=50415990', 'CA'],\n",
       "       ['Apr-15', 'Current', '36 months', ..., 'Source Verified',\n",
       "        'https://www.lendingclub.com/browse/loanDetail.action?loan_id=46154151', 'OH'],\n",
       "       ['Dec-15', 'Current', '36 months', ..., '',\n",
       "        'https://www.lendingclub.com/browse/loanDetail.action?loan_id=66055249', 'IL']],\n",
       "      dtype='<U69')"
      ]
     },
     "execution_count": 59,
     "metadata": {},
     "output_type": "execute_result"
    }
   ],
   "source": [
    "# Importing only the string data\n",
    "loan_data_strings = np.genfromtxt(\"loan-data.csv\",\n",
    "                                  delimiter = ';',\n",
    "                                  skip_header = 1,\n",
    "                                  autostrip = True, \n",
    "                                  usecols = columns_strings,\n",
    "                                  dtype = str,\n",
    "                                  encoding = 'latin9')\n",
    "loan_data_strings"
   ]
  },
  {
   "cell_type": "code",
   "execution_count": 60,
   "id": "cc82a2d7-7125-4ff3-a249-dac2f9b8a565",
   "metadata": {},
   "outputs": [
    {
     "data": {
      "text/plain": [
       "array([[48010226.  ,    35000.  ,    35000.  ,       13.33,     1184.86,     9452.96],\n",
       "       [57693261.  ,    30000.  ,    30000.  , 68616520.  ,      938.57,     4679.7 ],\n",
       "       [59432726.  ,    15000.  ,    15000.  , 68616520.  ,      494.86,     1969.83],\n",
       "       ...,\n",
       "       [50415990.  ,    10000.  ,    10000.  , 68616520.  , 68616520.  ,     2185.64],\n",
       "       [46154151.  , 68616520.  ,    10000.  ,       16.55,      354.3 ,     3199.4 ],\n",
       "       [66055249.  ,    10000.  ,    10000.  , 68616520.  ,      309.97,      301.9 ]])"
      ]
     },
     "execution_count": 60,
     "metadata": {},
     "output_type": "execute_result"
    }
   ],
   "source": [
    "# Importing only the numeric data \n",
    "loan_data_numeric = np.genfromtxt(\"loan-data.csv\",\n",
    "                                  delimiter = ';',\n",
    "                                  autostrip = True,\n",
    "                                  skip_header = 1,\n",
    "                                  usecols = columns_numeric,\n",
    "                                  encoding = 'latin9',\n",
    "                                  filling_values = tmp_fill) # Filling all NaN values with the tmp_fill value  \n",
    "loan_data_numeric"
   ]
  },
  {
   "cell_type": "markdown",
   "id": "d72b129e-4ae8-44d5-9de7-d3dc055de458",
   "metadata": {},
   "source": [
    "**----------------------------------------------------------------------------------------------------------------------------------------------------------------------------------------------------------------------------------------------------------------------------------------------------------------------------------------------------**\n"
   ]
  },
  {
   "cell_type": "code",
   "execution_count": 61,
   "id": "1183b634-dd1e-401f-b4d9-bb7ce98fac28",
   "metadata": {},
   "outputs": [],
   "source": [
    "# Importing only the headers\n",
    "header = np.genfromtxt(\"loan-data.csv\",\n",
    "                            delimiter = ';',\n",
    "                            autostrip = True,\n",
    "                            skip_footer = raw_data_np.shape[0],\n",
    "                            dtype = np.str,\n",
    "                           encoding = 'latin9')\n",
    "header_strings, header_numeric = header[columns_strings], header[columns_numeric]"
   ]
  },
  {
   "cell_type": "code",
   "execution_count": 62,
   "id": "b6c461a3-479b-4b23-ad71-8e2fa1a63371",
   "metadata": {},
   "outputs": [
    {
     "name": "stdout",
     "output_type": "stream",
     "text": [
      "Headers of Numeric Data: ['id' 'loan_amnt' 'funded_amnt' 'int_rate' 'installment' 'total_pymnt']\n",
      "Headers of String Data: ['issue_d' 'loan_status' 'term' 'grade' 'sub_grade' 'verification_status' 'url' 'addr_state']\n"
     ]
    }
   ],
   "source": [
    "print(f'Headers of Numeric Data: {header_numeric}')\n",
    "print(f'Headers of String Data: {header_strings}')"
   ]
  },
  {
   "cell_type": "markdown",
   "id": "b7e712ad-5900-4d4e-ad45-e15ebfd85454",
   "metadata": {},
   "source": [
    "# Numeric Data"
   ]
  },
  {
   "cell_type": "code",
   "execution_count": 11,
   "id": "280b67bd-26cd-400e-9915-8189f44ef3cf",
   "metadata": {},
   "outputs": [
    {
     "data": {
      "text/plain": [
       "array([[48010226.  ,    35000.  ,    35000.  ,       13.33,     1184.86,     9452.96],\n",
       "       [57693261.  ,    30000.  ,    30000.  , 68616520.  ,      938.57,     4679.7 ],\n",
       "       [59432726.  ,    15000.  ,    15000.  , 68616520.  ,      494.86,     1969.83],\n",
       "       ...,\n",
       "       [50415990.  ,    10000.  ,    10000.  , 68616520.  , 68616520.  ,     2185.64],\n",
       "       [46154151.  , 68616520.  ,    10000.  ,       16.55,      354.3 ,     3199.4 ],\n",
       "       [66055249.  ,    10000.  ,    10000.  , 68616520.  ,      309.97,      301.9 ]])"
      ]
     },
     "execution_count": 63,
     "metadata": {},
     "output_type": "execute_result"
    }
   ],
   "source": [
    "loan_data_numeric"
   ]
  },
  {
   "cell_type": "markdown",
   "id": "92daae08-e001-443a-a75c-e6241e9b4f3e",
   "metadata": {},
   "source": [
    "## Replacing \"Temporary Filled\" Values.\n",
    "I will replace the **temporarily filled values** in each numeric column in the following way:\n",
    "\n",
    "- Fill the following columns with a **maximum value**: \"Loaned Amount,\" \"Interest Rate,\" \"Total Payment,\" and \"Installment\" (according to the maximum value of each column).\n",
    "- Fill the \"Funded Amount\" column with its **minimum value**."
   ]
  },
  {
   "cell_type": "code",
   "execution_count": 12,
   "id": "ac7f34b5-c766-41a6-a8f4-67fdc6fc347f",
   "metadata": {},
   "outputs": [
    {
     "data": {
      "text/plain": [
       "array(['id', 'loan_amnt', 'funded_amnt', 'int_rate', 'installment', 'total_pymnt'], dtype='<U19')"
      ]
     },
     "execution_count": 64,
     "metadata": {},
     "output_type": "execute_result"
    }
   ],
   "source": [
    "header_numeric"
   ]
  },
  {
   "cell_type": "markdown",
   "id": "1c055d1f-6ec6-4443-9af2-b547bfc2f886",
   "metadata": {},
   "source": [
    "### ID"
   ]
  },
  {
   "cell_type": "code",
   "execution_count": 14,
   "id": "d9584675-4686-4186-a8f8-8d43700e32d8",
   "metadata": {},
   "outputs": [
    {
     "data": {
      "text/plain": [
       "0"
      ]
     },
     "execution_count": 65,
     "metadata": {},
     "output_type": "execute_result"
    }
   ],
   "source": [
    "np.isin(loan_data_numeric[:,0], tmp_fill).sum() \n",
    "# The column ID does not have any NaN values as it does not contain the tmp_fill value."
   ]
  },
  {
   "cell_type": "markdown",
   "id": "4b16f49a-c3c2-4fee-877b-34ea857ab4d4",
   "metadata": {},
   "source": [
    "### Loaned Amount, Interest Rate, Total Payment, Installment"
   ]
  },
  {
   "cell_type": "code",
   "execution_count": 15,
   "id": "7f4f1f16-c5f7-49c3-8a99-ae989289c6bd",
   "metadata": {},
   "outputs": [
    {
     "data": {
      "text/plain": [
       "array(['id', 'loan_amnt', 'funded_amnt', 'int_rate', 'installment', 'total_pymnt'], dtype='<U19')"
      ]
     },
     "execution_count": 66,
     "metadata": {},
     "output_type": "execute_result"
    }
   ],
   "source": [
    "\"\"\" \n",
    "Numeric index of each column:\n",
    "    loan_amnt:1,\n",
    "    int_rate:3,\n",
    "    installment:4,\n",
    "    total_pymnt: 5\n",
    "\"\"\"\n",
    "header_numeric"
   ]
  },
  {
   "cell_type": "code",
   "execution_count": 16,
   "id": "ad427c95-e1d9-45c3-9042-2295e9213e7a",
   "metadata": {},
   "outputs": [
    {
     "data": {
      "text/plain": [
       "array([[48010226.  ,    35000.  ,    35000.  ,       13.33,     1184.86,     9452.96],\n",
       "       [57693261.  ,    30000.  ,    30000.  , 68616520.  ,      938.57,     4679.7 ],\n",
       "       [59432726.  ,    15000.  ,    15000.  , 68616520.  ,      494.86,     1969.83],\n",
       "       ...,\n",
       "       [50415990.  ,    10000.  ,    10000.  , 68616520.  , 68616520.  ,     2185.64],\n",
       "       [46154151.  , 68616520.  ,    10000.  ,       16.55,      354.3 ,     3199.4 ],\n",
       "       [66055249.  ,    10000.  ,    10000.  , 68616520.  ,      309.97,      301.9 ]])"
      ]
     },
     "execution_count": 67,
     "metadata": {},
     "output_type": "execute_result"
    }
   ],
   "source": [
    "loan_data_numeric"
   ]
  },
  {
   "cell_type": "code",
   "execution_count": 17,
   "id": "c664378a-0273-486f-95a2-253259c62bd5",
   "metadata": {},
   "outputs": [
    {
     "data": {
      "text/plain": [
       "array([[48010226.  ,    35000.  ,    35000.  ,       13.33,     1184.86,     9452.96],\n",
       "       [57693261.  ,    30000.  ,    30000.  ,       28.99,      938.57,     4679.7 ],\n",
       "       [59432726.  ,    15000.  ,    15000.  ,       28.99,      494.86,     1969.83],\n",
       "       ...,\n",
       "       [50415990.  ,    10000.  ,    10000.  ,       28.99,     1372.97,     2185.64],\n",
       "       [46154151.  ,    35000.  ,    10000.  ,       16.55,      354.3 ,     3199.4 ],\n",
       "       [66055249.  ,    10000.  ,    10000.  ,       28.99,      309.97,      301.9 ]])"
      ]
     },
     "execution_count": 68,
     "metadata": {},
     "output_type": "execute_result"
    }
   ],
   "source": [
    "for i in [1,3,4,5]:\n",
    "    loan_data_numeric[:,i] = np.where(loan_data_numeric[:,i] == tmp_fill,\n",
    "                                      tmp_stats[2, columns_numeric[i]],\n",
    "                                      loan_data_numeric[:,i])\n",
    "loan_data_numeric"
   ]
  },
  {
   "cell_type": "markdown",
   "id": "e53f82ff-31a2-46fc-829c-654a2b5f3c78",
   "metadata": {},
   "source": [
    "### Funded Amount"
   ]
  },
  {
   "cell_type": "code",
   "execution_count": 18,
   "id": "e7fc039d-15be-4879-a7ec-ba7e8c22cbe7",
   "metadata": {},
   "outputs": [
    {
     "data": {
      "text/plain": [
       "array(['id', 'loan_amnt', 'funded_amnt', 'int_rate', 'installment', 'total_pymnt'], dtype='<U19')"
      ]
     },
     "execution_count": 69,
     "metadata": {},
     "output_type": "execute_result"
    }
   ],
   "source": [
    "header_numeric "
   ]
  },
  {
   "cell_type": "code",
   "execution_count": 19,
   "id": "7c1f5d37-1089-4f8a-b30a-42c806cb0ca6",
   "metadata": {},
   "outputs": [
    {
     "data": {
      "text/plain": [
       "array([35000., 30000., 15000., ..., 10000., 10000., 10000.])"
      ]
     },
     "execution_count": 70,
     "metadata": {},
     "output_type": "execute_result"
    }
   ],
   "source": [
    "\n",
    "loan_data_numeric[:,2] = np.where(loan_data_numeric[:,2] == tmp_fill, \n",
    "                                  tmp_stats[0, columns_numeric[2]],\n",
    "                                  loan_data_numeric[:,2])\n",
    "loan_data_numeric[:,2]"
   ]
  },
  {
   "cell_type": "markdown",
   "id": "7ab668d3-4b5d-462c-9fcd-da8cdd9e3dd2",
   "metadata": {},
   "source": [
    "# String Data"
   ]
  },
  {
   "cell_type": "code",
   "execution_count": 20,
   "id": "4071c25b-875c-4e74-974e-a7ee46208147",
   "metadata": {},
   "outputs": [
    {
     "data": {
      "text/plain": [
       "array(['issue_d', 'loan_status', 'term', 'grade', 'sub_grade', 'verification_status', 'url',\n",
       "       'addr_state'], dtype='<U19')"
      ]
     },
     "execution_count": 71,
     "metadata": {},
     "output_type": "execute_result"
    }
   ],
   "source": [
    "header_strings"
   ]
  },
  {
   "cell_type": "code",
   "execution_count": 21,
   "id": "6d3311a8-44d1-4d59-8306-a19440f3e278",
   "metadata": {},
   "outputs": [
    {
     "data": {
      "text/plain": [
       "array([['May-15', 'Current', '36 months', ..., 'Verified',\n",
       "        'https://www.lendingclub.com/browse/loanDetail.action?loan_id=48010226', 'CA'],\n",
       "       ['', 'Current', '36 months', ..., 'Source Verified',\n",
       "        'https://www.lendingclub.com/browse/loanDetail.action?loan_id=57693261', 'NY'],\n",
       "       ['Sep-15', 'Current', '36 months', ..., 'Verified',\n",
       "        'https://www.lendingclub.com/browse/loanDetail.action?loan_id=59432726', 'PA'],\n",
       "       ...,\n",
       "       ['Jun-15', 'Current', '36 months', ..., 'Source Verified',\n",
       "        'https://www.lendingclub.com/browse/loanDetail.action?loan_id=50415990', 'CA'],\n",
       "       ['Apr-15', 'Current', '36 months', ..., 'Source Verified',\n",
       "        'https://www.lendingclub.com/browse/loanDetail.action?loan_id=46154151', 'OH'],\n",
       "       ['Dec-15', 'Current', '36 months', ..., '',\n",
       "        'https://www.lendingclub.com/browse/loanDetail.action?loan_id=66055249', 'IL']],\n",
       "      dtype='<U69')"
      ]
     },
     "execution_count": 72,
     "metadata": {},
     "output_type": "execute_result"
    }
   ],
   "source": [
    "loan_data_strings"
   ]
  },
  {
   "cell_type": "markdown",
   "id": "55e2ff16-5416-4b9c-980b-cef4f7348135",
   "metadata": {},
   "source": [
    "### Issue Date"
   ]
  },
  {
   "cell_type": "code",
   "execution_count": 22,
   "id": "68457262-7f9f-4f90-9140-26dd94c152ee",
   "metadata": {},
   "outputs": [
    {
     "name": "stdout",
     "output_type": "stream",
     "text": [
      "The column with the 'issue_d' header has the following unique values: \n",
      " ['' 'Apr-15' 'Aug-15' 'Dec-15' 'Feb-15' 'Jan-15' 'Jul-15' 'Jun-15' 'Mar-15' 'May-15' 'Nov-15'\n",
      " 'Oct-15' 'Sep-15']\n"
     ]
    }
   ],
   "source": [
    "print(f\"The column with the '{header_strings[0]}' header has the following unique values: \\n {np.unique(loan_data_strings[:,0])}\")"
   ]
  },
  {
   "cell_type": "code",
   "execution_count": 23,
   "id": "b49e18c0-68ac-475f-be36-3d8e10003eef",
   "metadata": {},
   "outputs": [
    {
     "data": {
      "text/plain": [
       "array(['0', '1', '10', '11', '12', '2', '3', '4', '5', '6', '7', '8', '9'], dtype='<U69')"
      ]
     },
     "execution_count": 74,
     "metadata": {},
     "output_type": "execute_result"
    }
   ],
   "source": [
    "# Assigning numerical representation to each month.\n",
    "months = np.array(['', 'Jan-15', 'Feb-15', 'Mar-15', 'Apr-15', 'May-15', 'Jun-15', 'Jul-15', 'Aug-15', 'Sep-15', 'Oct-15', 'Nov-15', 'Dec-15'])\n",
    "for i in range(13):\n",
    "        loan_data_strings[:,0] = np.where(loan_data_strings[:,0] == months[i],\n",
    "                                          i,\n",
    "                                          loan_data_strings[:,0])\n",
    "        \n",
    "np.unique(loan_data_strings[:,0])"
   ]
  },
  {
   "cell_type": "markdown",
   "id": "017b1391-cb6d-48c4-b452-c6dcb27d7004",
   "metadata": {},
   "source": [
    "### Loan Status"
   ]
  },
  {
   "cell_type": "code",
   "execution_count": null,
   "id": "0a153883-f669-4c4e-a14a-d493890ae15c",
   "metadata": {},
   "outputs": [
    {
     "name": "stdout",
     "output_type": "stream",
     "text": [
      "The column with the loan_status header has the following unique values: \n",
      " ['' 'Charged Off' 'Current' 'Default' 'Fully Paid' 'In Grace Period' 'Issued' 'Late (16-30 days)'\n",
      " 'Late (31-120 days)']\n"
     ]
    }
   ],
   "source": [
    "print(f'The column with the '{header_strings[1]}' header has the following unique values: \\n {np.unique(loan_data_strings[:,1])}')"
   ]
  },
  {
   "cell_type": "code",
   "execution_count": 24,
   "id": "d1537c41-2775-48f3-8d72-ee30fffcb29e",
   "metadata": {},
   "outputs": [
    {
     "data": {
      "text/plain": [
       "array(['0', '1'], dtype='<U69')"
      ]
     },
     "execution_count": 76,
     "metadata": {},
     "output_type": "execute_result"
    }
   ],
   "source": [
    "# Dividing loan status into two groups: bad and good loan status. \n",
    "status_bad = np.array(['','Charged Off','Default','Late (31-120 days)'])\n",
    "\n",
    "# Assigning numerical representation to bad and good loan status.\n",
    "loan_data_strings[:,1] = np.where(np.isin(loan_data_strings[:,1], status_bad),0,1)\n",
    "np.unique(loan_data_strings[:,1])"
   ]
  },
  {
   "cell_type": "markdown",
   "id": "2d39a4a1-4de4-4519-9ce2-003163d8340c",
   "metadata": {},
   "source": [
    "### Term"
   ]
  },
  {
   "cell_type": "code",
   "execution_count": 25,
   "id": "8a09cb2b-f594-424e-bc99-1208749ec790",
   "metadata": {},
   "outputs": [
    {
     "name": "stdout",
     "output_type": "stream",
     "text": [
      "The column with the term header has the following unique values: \n",
      " ['' '36 months' '60 months']\n"
     ]
    }
   ],
   "source": [
    "print(f'The column with the '{header_strings[2]}' header has the following unique values: \\n {np.unique(loan_data_strings[:,2])}')"
   ]
  },
  {
   "cell_type": "code",
   "execution_count": 26,
   "id": "3e433d1f-cdaa-4b58-8b92-a84c193a60b8",
   "metadata": {},
   "outputs": [
    {
     "data": {
      "text/plain": [
       "array(['36', '36', '36', ..., '36', '36', '36'], dtype='<U69')"
      ]
     },
     "execution_count": 78,
     "metadata": {},
     "output_type": "execute_result"
    }
   ],
   "source": [
    "# Removing 'months' word\n",
    "loan_data_strings[:,2] = np.chararray.strip(loan_data_strings[:,2], \" months\")\n",
    "loan_data_strings[:,2]"
   ]
  },
  {
   "cell_type": "code",
   "execution_count": 27,
   "id": "8064c348-eb0a-44e2-b2bd-133c482ebb97",
   "metadata": {},
   "outputs": [
    {
     "data": {
      "text/plain": [
       "array(['36', '36', '36', ..., '36', '36', '36'], dtype='<U69')"
      ]
     },
     "execution_count": 79,
     "metadata": {},
     "output_type": "execute_result"
    }
   ],
   "source": [
    "# Replacing '' values to 60\n",
    "loan_data_strings[:,2] = np.where(loan_data_strings[:,2] == '', \n",
    "                                  '60', \n",
    "                                  loan_data_strings[:,2])\n",
    "loan_data_strings[:,2]"
   ]
  },
  {
   "cell_type": "code",
   "execution_count": 28,
   "id": "25fd80e4-ebbb-424f-b8e5-1001c6426f66",
   "metadata": {},
   "outputs": [
    {
     "data": {
      "text/plain": [
       "array(['36', '60'], dtype='<U69')"
      ]
     },
     "execution_count": 80,
     "metadata": {},
     "output_type": "execute_result"
    }
   ],
   "source": [
    "np.unique(loan_data_strings[:,2])"
   ]
  },
  {
   "cell_type": "markdown",
   "id": "bdb7acdd-e415-481c-a89a-d9c2ad6e16bd",
   "metadata": {},
   "source": [
    "### Grade and Subgrade"
   ]
  },
  {
   "cell_type": "code",
   "execution_count": 31,
   "id": "0606d0e2-ffd3-487f-82fa-e83e2e5452ae",
   "metadata": {},
   "outputs": [
    {
     "name": "stdout",
     "output_type": "stream",
     "text": [
      "The column with the grade header has the following unique values: \n",
      " ['' 'A' 'B' 'C' 'D' 'E' 'F' 'G']\n"
     ]
    }
   ],
   "source": [
    "print(f\"The column with the '{header_strings[3]}' header has the following unique values: \\n {np.unique(loan_data_strings[:,3])}\")"
   ]
  },
  {
   "cell_type": "code",
   "execution_count": 32,
   "id": "27e5ca44-2714-4d71-9f57-3535c443669d",
   "metadata": {},
   "outputs": [
    {
     "name": "stdout",
     "output_type": "stream",
     "text": [
      "The column with the sub_grade header has the following unique values: \n",
      " ['' 'A1' 'A2' 'A3' 'A4' 'A5' 'B1' 'B2' 'B3' 'B4' 'B5' 'C1' 'C2' 'C3' 'C4' 'C5' 'D1' 'D2' 'D3' 'D4'\n",
      " 'D5' 'E1' 'E2' 'E3' 'E4' 'E5' 'F1' 'F2' 'F3' 'F4' 'F5' 'G1' 'G2' 'G3' 'G4' 'G5']\n"
     ]
    }
   ],
   "source": [
    "print(f\"The column with the '{header_strings[4]}' header has the following unique values: \\n {np.unique(loan_data_strings[:,4])}\")"
   ]
  },
  {
   "cell_type": "code",
   "execution_count": 33,
   "id": "e4c3bdcc-41f5-42e2-8c0b-dd53a42b3b80",
   "metadata": {},
   "outputs": [
    {
     "name": "stdout",
     "output_type": "stream",
     "text": [
      "The column 'Gradee' has 515 empty string ('') values\n",
      "The column 'Subgrade' has 514 empty string ('') values\n"
     ]
    }
   ],
   "source": [
    "print(f\"The column 'Grade' has {np.unique(loan_data_strings[:,3],return_counts = True)[1][0]} empty string ('') values\")\n",
    "print(f\"The column 'Subgrade' has {np.unique(loan_data_strings[:,4],return_counts = True)[1][0]} empty string ('') values\")\n"
   ]
  },
  {
   "cell_type": "code",
   "execution_count": 34,
   "id": "f54fd547-dbb3-442c-9001-d0c9ec2d7764",
   "metadata": {},
   "outputs": [
    {
     "data": {
      "text/plain": [
       "(array(['', 'A1', 'A2', 'A3', 'A4', 'A5', 'B1', 'B2', 'B3', 'B4', 'B5', 'C1', 'C2', 'C3', 'C4',\n",
       "        'C5', 'D1', 'D2', 'D3', 'D4', 'D5', 'E1', 'E2', 'E3', 'E4', 'E5', 'F1', 'F2', 'F3', 'F4',\n",
       "        'F5', 'G1', 'G2', 'G3', 'G4', 'G5'], dtype='<U69'),\n",
       " array([514, 285, 278, 239, 323, 502, 509, 517, 530, 553, 494, 629, 567, 586, 564, 423, 391, 267,\n",
       "        250, 255, 223, 235, 162, 171, 139, 114,  94,  52,  34,  43,  16,  19,  10,   3,   7,   2]))"
      ]
     },
     "execution_count": 84,
     "metadata": {},
     "output_type": "execute_result"
    }
   ],
   "source": [
    "np.unique(loan_data_strings[:,4],return_counts = True)"
   ]
  },
  {
   "cell_type": "markdown",
   "id": "ba04e11d-efb8-412a-96e0-4e93245f9f8e",
   "metadata": {},
   "source": [
    "- The columns Grade and Subgrade convey the same information; therefore, it will be better to remove one of them.\n",
    "- I have decided to remove the column \"Grade\" as it contains general information, while the column \"Subgrade\" includes detailed information about the grades. \n",
    "- However, before dropping the column \"Grade,\" I will check if it is possible to fill the empty strings of column 'Subgrade' **(' ')** with the 'Grade' values."
   ]
  },
  {
   "cell_type": "markdown",
   "id": "c8d9368e-f4a8-465e-8061-725535176231",
   "metadata": {},
   "source": [
    "### Filling Subgrade's Empty Strings"
   ]
  },
  {
   "cell_type": "code",
   "execution_count": 35,
   "id": "052c1de5-8a5e-4a14-aafe-845a48836740",
   "metadata": {},
   "outputs": [],
   "source": [
    "for i in np.unique(loan_data_strings[:,3])[1:]:\n",
    "    loan_data_strings[:,4] = np.where((loan_data_strings[:,4] == '') & (loan_data_strings[:,3] == i),\n",
    "                                      i + '5',\n",
    "                                      loan_data_strings[:,4])"
   ]
  },
  {
   "cell_type": "code",
   "execution_count": 36,
   "id": "67a8af39-f0d5-41f8-9ad2-1d70f09663bf",
   "metadata": {},
   "outputs": [
    {
     "data": {
      "text/plain": [
       "(array(['', 'A1', 'A2', 'A3', 'A4', 'A5', 'B1', 'B2', 'B3', 'B4', 'B5', 'C1', 'C2', 'C3', 'C4',\n",
       "        'C5', 'D1', 'D2', 'D3', 'D4', 'D5', 'E1', 'E2', 'E3', 'E4', 'E5', 'F1', 'F2', 'F3', 'F4',\n",
       "        'F5', 'G1', 'G2', 'G3', 'G4', 'G5'], dtype='<U69'),\n",
       " array([  9, 285, 278, 239, 323, 592, 509, 517, 530, 553, 633, 629, 567, 586, 564, 577, 391, 267,\n",
       "        250, 255, 288, 235, 162, 171, 139, 160,  94,  52,  34,  43,  24,  19,  10,   3,   7,   5]))"
      ]
     },
     "execution_count": 86,
     "metadata": {},
     "output_type": "execute_result"
    }
   ],
   "source": [
    "np.unique(loan_data_strings[:,4], return_counts = True)"
   ]
  },
  {
   "cell_type": "code",
   "execution_count": 37,
   "id": "fd887d02-232f-43be-a3b8-d17b453ab3ea",
   "metadata": {},
   "outputs": [],
   "source": [
    "loan_data_strings[:,4] = np.where(loan_data_strings[:,4] == '',\n",
    "                                  'H1',\n",
    "                                  loan_data_strings[:,4])"
   ]
  },
  {
   "cell_type": "code",
   "execution_count": 38,
   "id": "bdb9d395-71ff-4e95-a7f0-3075f5ca3be7",
   "metadata": {},
   "outputs": [
    {
     "data": {
      "text/plain": [
       "array(['A1', 'A2', 'A3', 'A4', 'A5', 'B1', 'B2', 'B3', 'B4', 'B5', 'C1', 'C2', 'C3', 'C4', 'C5',\n",
       "       'D1', 'D2', 'D3', 'D4', 'D5', 'E1', 'E2', 'E3', 'E4', 'E5', 'F1', 'F2', 'F3', 'F4', 'F5',\n",
       "       'G1', 'G2', 'G3', 'G4', 'G5', 'H1'], dtype='<U69')"
      ]
     },
     "execution_count": 88,
     "metadata": {},
     "output_type": "execute_result"
    }
   ],
   "source": [
    "# After filling all empty string ('') values\n",
    "np.unique(loan_data_strings[:,4])"
   ]
  },
  {
   "cell_type": "code",
   "execution_count": 39,
   "id": "9bbb12a0-5f88-4661-8996-4eaadef5e750",
   "metadata": {},
   "outputs": [
    {
     "data": {
      "text/plain": [
       "array(['C3', 'A5', 'B5', ..., 'A5', 'D2', 'A4'], dtype='<U69')"
      ]
     },
     "execution_count": 89,
     "metadata": {},
     "output_type": "execute_result"
    }
   ],
   "source": [
    "# Dropping Grade\n",
    "loan_data_strings = np.delete(loan_data_strings, 3, axis = 1)\n",
    "loan_data_strings[:,3]"
   ]
  },
  {
   "cell_type": "markdown",
   "id": "e302a8b7-3f89-497e-b890-6ecb7d849eb2",
   "metadata": {},
   "source": [
    "### Assigning numerical representation to each Subgrade"
   ]
  },
  {
   "cell_type": "code",
   "execution_count": 40,
   "id": "bd24358d-fb13-4dbf-96cf-b916682fd130",
   "metadata": {},
   "outputs": [
    {
     "name": "stdout",
     "output_type": "stream",
     "text": [
      "{'A1': 1, 'A2': 2, 'A3': 3, 'A4': 4, 'A5': 5, 'B1': 6, 'B2': 7, 'B3': 8, 'B4': 9, 'B5': 10, 'C1': 11, 'C2': 12, 'C3': 13, 'C4': 14, 'C5': 15, 'D1': 16, 'D2': 17, 'D3': 18, 'D4': 19, 'D5': 20, 'E1': 21, 'E2': 22, 'E3': 23, 'E4': 24, 'E5': 25, 'F1': 26, 'F2': 27, 'F3': 28, 'F4': 29, 'F5': 30, 'G1': 31, 'G2': 32, 'G3': 33, 'G4': 34, 'G5': 35, 'H1': 36}\n"
     ]
    }
   ],
   "source": [
    "keys = list(np.unique(loan_data_strings[:,3]))                         \n",
    "values = list(range(1, np.unique(loan_data_strings[:,3]).shape[0] + 1)) \n",
    "dict_sub_grade = dict(zip(keys, values))\n",
    "print(dict_sub_grade)"
   ]
  },
  {
   "cell_type": "code",
   "execution_count": 41,
   "id": "21384a69-0f36-4db0-b165-f65b2ba1fecc",
   "metadata": {},
   "outputs": [
    {
     "data": {
      "text/plain": [
       "array(['1', '10', '11', '12', '13', '14', '15', '16', '17', '18', '19', '2', '20', '21', '22',\n",
       "       '23', '24', '25', '26', '27', '28', '29', '3', '30', '31', '32', '33', '34', '35', '36',\n",
       "       '4', '5', '6', '7', '8', '9'], dtype='<U69')"
      ]
     },
     "execution_count": 91,
     "metadata": {},
     "output_type": "execute_result"
    }
   ],
   "source": [
    "for i in np.unique(loan_data_strings[:,3]):\n",
    "        loan_data_strings[:,3] = np.where(loan_data_strings[:,3] == i, \n",
    "                                          dict_sub_grade[i],\n",
    "                                          loan_data_strings[:,3])\n",
    "np.unique(loan_data_strings[:,3])"
   ]
  },
  {
   "cell_type": "markdown",
   "id": "c66a1c91-38be-48c4-82db-05efc4797bd1",
   "metadata": {},
   "source": [
    "### Verification Status"
   ]
  },
  {
   "cell_type": "code",
   "execution_count": 42,
   "id": "479ecc43-9fbf-41fd-a4fb-5c350153c7ac",
   "metadata": {},
   "outputs": [
    {
     "name": "stdout",
     "output_type": "stream",
     "text": [
      "The column with the sub_grade header has the following unique values: \n",
      " ['' 'Not Verified' 'Source Verified' 'Verified']\n"
     ]
    }
   ],
   "source": [
    "print(f\"The column with the '{header_strings[4]}' header has the following unique values: \\n {np.unique(loan_data_strings[:,4])}\")"
   ]
  },
  {
   "cell_type": "code",
   "execution_count": 43,
   "id": "c141c976-c474-465c-aece-7361ef0e393a",
   "metadata": {},
   "outputs": [
    {
     "data": {
      "text/plain": [
       "array(['', 'Not Verified', 'Source Verified', 'Verified'], dtype='<U69')"
      ]
     },
     "execution_count": 93,
     "metadata": {},
     "output_type": "execute_result"
    }
   ],
   "source": [
    "np.unique(loan_data_strings[:,4])"
   ]
  },
  {
   "cell_type": "code",
   "execution_count": 44,
   "id": "ec5c7d43-a94d-4032-aaae-e864f0b85bc8",
   "metadata": {},
   "outputs": [
    {
     "data": {
      "text/plain": [
       "array(['0', '1'], dtype='<U69')"
      ]
     },
     "execution_count": 94,
     "metadata": {},
     "output_type": "execute_result"
    }
   ],
   "source": [
    "# Assigning numerical representation to each status of the column: \"Verification Status.\"\n",
    "loan_data_strings[:,4] = np.where((loan_data_strings[:,4] == '') | (loan_data_strings[:,4] == 'Not Verified'), 0, 1)\n",
    "np.unique(loan_data_strings[:,4])"
   ]
  },
  {
   "cell_type": "markdown",
   "id": "3964421c-142e-49e8-a779-4bd7dd21ccad",
   "metadata": {},
   "source": [
    "### URL"
   ]
  },
  {
   "cell_type": "code",
   "execution_count": 45,
   "id": "f60dd82d-d2ed-4f8f-95c1-fea117fc9f6c",
   "metadata": {},
   "outputs": [
    {
     "data": {
      "text/plain": [
       "array(['https://www.lendingclub.com/browse/loanDetail.action?loan_id=48010226',\n",
       "       'https://www.lendingclub.com/browse/loanDetail.action?loan_id=57693261',\n",
       "       'https://www.lendingclub.com/browse/loanDetail.action?loan_id=59432726', ...,\n",
       "       'https://www.lendingclub.com/browse/loanDetail.action?loan_id=50415990',\n",
       "       'https://www.lendingclub.com/browse/loanDetail.action?loan_id=46154151',\n",
       "       'https://www.lendingclub.com/browse/loanDetail.action?loan_id=66055249'], dtype='<U69')"
      ]
     },
     "execution_count": 95,
     "metadata": {},
     "output_type": "execute_result"
    }
   ],
   "source": [
    "loan_data_strings[:,5]"
   ]
  },
  {
   "cell_type": "code",
   "execution_count": 46,
   "id": "91f8ec32-d677-42cb-b7cc-d33021020528",
   "metadata": {},
   "outputs": [],
   "source": [
    "# Removing the string value from each URL address, leaving only the number that appears at the end of each URL address.\n",
    "np.chararray.strip(loan_data_strings[:,5], \"https://www.lendingclub.com/browse/loanDetail.action?loan_id=\")\n",
    "loan_data_strings[:,5] = np.chararray.strip(loan_data_strings[:,5], \"https://www.lendingclub.com/browse/loanDetail.action?loan_id=\")"
   ]
  },
  {
   "cell_type": "code",
   "execution_count": 47,
   "id": "2e8bbdac-9bd0-48e9-bc35-724b0a12c75f",
   "metadata": {},
   "outputs": [
    {
     "data": {
      "text/plain": [
       "True"
      ]
     },
     "execution_count": 97,
     "metadata": {},
     "output_type": "execute_result"
    }
   ],
   "source": [
    "# Comparing column 'ID' values and 'URL's numeric values\n",
    "np.array_equal(loan_data_numeric[:,0].astype(dtype = np.int32),loan_data_strings[:,5].astype(dtype = np.int32))"
   ]
  },
  {
   "cell_type": "markdown",
   "id": "4ab3f041-87e5-4a9b-bcb1-e4558d2794d8",
   "metadata": {},
   "source": [
    "- The numeric values from the URL are identical to the values in column 'id.' \n",
    "<br>Thus, I will drop the URL column as it conveys the same information of the column 'id.'\n"
   ]
  },
  {
   "cell_type": "code",
   "execution_count": null,
   "id": "eeaf5969-07b4-499a-a105-331f7a4d5eb0",
   "metadata": {},
   "outputs": [],
   "source": [
    "# Dropping column URL\n",
    "loan_data_strings = np.delete(loan_data_strings, 5, axis = 1)"
   ]
  },
  {
   "cell_type": "markdown",
   "id": "c69df629-ae52-40e6-944b-0235411b65cd",
   "metadata": {},
   "source": [
    "### State Address"
   ]
  },
  {
   "cell_type": "code",
   "execution_count": null,
   "id": "c82e450a-b3f1-40d0-9e0c-b799a71cc463",
   "metadata": {},
   "outputs": [
    {
     "name": "stdout",
     "output_type": "stream",
     "text": [
      "The column with the verification_status header has the following unique values: \n",
      " ['' 'AK' 'AL' 'AR' 'AZ' 'CA' 'CO' 'CT' 'DC' 'DE' 'FL' 'GA' 'HI' 'IL' 'IN' 'KS' 'KY' 'LA' 'MA' 'MD'\n",
      " 'ME' 'MI' 'MN' 'MO' 'MS' 'MT' 'NC' 'ND' 'NE' 'NH' 'NJ' 'NM' 'NV' 'NY' 'OH' 'OK' 'OR' 'PA' 'RI'\n",
      " 'SC' 'SD' 'TN' 'TX' 'UT' 'VA' 'VT' 'WA' 'WI' 'WV' 'WY']\n"
     ]
    }
   ],
   "source": [
    "print(f\"The column with the '{header_strings[5]}' header has the following unique values: \\n {np.unique(loan_data_strings[:,5])}\")"
   ]
  },
  {
   "cell_type": "code",
   "execution_count": null,
   "id": "fb13ee40-ce3a-46dc-b85c-ff76fc0ac78d",
   "metadata": {},
   "outputs": [
    {
     "data": {
      "text/plain": [
       "(array(['CA', 'NY', 'TX', 'FL', '', 'IL', 'NJ', 'GA', 'PA', 'OH', 'MI', 'NC', 'VA', 'MD', 'AZ',\n",
       "        'WA', 'MA', 'CO', 'MO', 'MN', 'IN', 'WI', 'CT', 'TN', 'NV', 'AL', 'LA', 'OR', 'SC', 'KY',\n",
       "        'KS', 'OK', 'UT', 'AR', 'MS', 'NH', 'NM', 'WV', 'HI', 'RI', 'MT', 'DE', 'DC', 'WY', 'AK',\n",
       "        'NE', 'SD', 'VT', 'ND', 'ME'], dtype='<U69'),\n",
       " array([1336,  777,  758,  690,  500,  389,  341,  321,  320,  312,  267,  261,  242,  222,  220,\n",
       "         216,  210,  201,  160,  156,  152,  148,  143,  143,  130,  119,  116,  108,  107,   84,\n",
       "          84,   83,   74,   74,   61,   58,   57,   49,   44,   40,   28,   27,   27,   27,   26,\n",
       "          25,   24,   17,   16,   10]))"
      ]
     },
     "execution_count": 100,
     "metadata": {},
     "output_type": "execute_result"
    }
   ],
   "source": [
    "states_names, states_count = np.unique(loan_data_strings[:,5], return_counts = True)\n",
    "states_count_sorted = np.argsort(-states_count)\n",
    "states_names[states_count_sorted], states_count[states_count_sorted]"
   ]
  },
  {
   "cell_type": "code",
   "execution_count": null,
   "id": "6f5d4670-481b-4059-a433-71290b7e143e",
   "metadata": {},
   "outputs": [],
   "source": [
    "# Assigning zero values to empty string values\n",
    "\n",
    "loan_data_strings[:,5] = np.where(loan_data_strings[:,5] == '', \n",
    "                                  0, \n",
    "                                  loan_data_strings[:,5])"
   ]
  },
  {
   "cell_type": "code",
   "execution_count": null,
   "id": "8ebb5361-cded-47a0-a79c-bd8ed9c058a6",
   "metadata": {},
   "outputs": [],
   "source": [
    "# Grouping states by regions\n",
    "\n",
    "states_west = np.array(['WA', 'OR','CA','NV','ID','MT', 'WY','UT','CO', 'AZ','NM','HI','AK'])\n",
    "states_south = np.array(['TX','OK','AR','LA','MS','AL','TN','KY','FL','GA','SC','NC','VA','WV','MD','DE','DC'])\n",
    "states_midwest = np.array(['ND','SD','NE','KS','MN','IA','MO','WI','IL','IN','MI','OH'])\n",
    "states_east = np.array(['PA','NY','NJ','CT','MA','VT','NH','ME','RI'])"
   ]
  },
  {
   "cell_type": "code",
   "execution_count": null,
   "id": "9fb30646-420f-4224-a5cd-3d6d6ed0e602",
   "metadata": {},
   "outputs": [],
   "source": [
    "# Assigning numerical representation to each region\n",
    "\n",
    "loan_data_strings[:,5] = np.where(np.isin(loan_data_strings[:,5], states_west), 1, loan_data_strings[:,5])\n",
    "loan_data_strings[:,5] = np.where(np.isin(loan_data_strings[:,5], states_south), 2, loan_data_strings[:,5])\n",
    "loan_data_strings[:,5] = np.where(np.isin(loan_data_strings[:,5], states_midwest), 3, loan_data_strings[:,5])\n",
    "loan_data_strings[:,5] = np.where(np.isin(loan_data_strings[:,5], states_east), 4, loan_data_strings[:,5])"
   ]
  },
  {
   "cell_type": "code",
   "execution_count": null,
   "id": "1756393b-c633-4df7-8201-7a07446feea6",
   "metadata": {},
   "outputs": [
    {
     "data": {
      "text/plain": [
       "array(['0', '1', '2', '3', '4'], dtype='<U69')"
      ]
     },
     "execution_count": 104,
     "metadata": {},
     "output_type": "execute_result"
    }
   ],
   "source": [
    "np.unique(loan_data_strings[:,5])"
   ]
  },
  {
   "cell_type": "markdown",
   "id": "694e41a0-6dbc-4214-8c8a-e7f3f281d469",
   "metadata": {},
   "source": [
    "## Converting the dtype of String Data to Integer & Removing the Dropped Columns' Headers."
   ]
  },
  {
   "cell_type": "code",
   "execution_count": null,
   "id": "3c819396-b315-4c15-9e0a-2441463ed2b4",
   "metadata": {},
   "outputs": [],
   "source": [
    "# Removing the \"Grade\" and \"URL\" headers\n",
    "# \"Grade\" index: 3  \n",
    "# \"URL\" index: 6\n",
    "\n",
    "header_strings = np.delete(header_strings,[3,6]) "
   ]
  },
  {
   "cell_type": "code",
   "execution_count": null,
   "id": "a469a434-d7db-4dc2-acdf-61f1e4285648",
   "metadata": {},
   "outputs": [
    {
     "name": "stdout",
     "output_type": "stream",
     "text": [
      " Data type of the string columns before changing  to 'int':<U69 \n",
      "issue_d : <U69\n",
      "loan_status : <U69\n",
      "term : <U69\n",
      "sub_grade : <U69\n",
      "verification_status : <U69\n"
     ]
    }
   ],
   "source": [
    "print(f\" Data type of the string columns before changing  to 'int':{loan_data_strings.dtype} \")\n",
    "for i in range(5):\n",
    "    print(f\"{header_strings[i]} : {loan_data_strings[:i].dtype}\")"
   ]
  },
  {
   "cell_type": "code",
   "execution_count": null,
   "id": "438731ec-616a-495c-9ea8-5888ef08b413",
   "metadata": {},
   "outputs": [
    {
     "data": {
      "text/plain": [
       "array([[ 5,  1, 36, 13,  1,  1],\n",
       "       [ 0,  1, 36,  5,  1,  4],\n",
       "       [ 9,  1, 36, 10,  1,  4],\n",
       "       ...,\n",
       "       [ 6,  1, 36,  5,  1,  1],\n",
       "       [ 4,  1, 36, 17,  1,  3],\n",
       "       [12,  1, 36,  4,  0,  3]])"
      ]
     },
     "execution_count": 107,
     "metadata": {},
     "output_type": "execute_result"
    }
   ],
   "source": [
    "# Converting all str dtype values to int.\n",
    "loan_data_strings = loan_data_strings.astype(np.int)\n",
    "loan_data_strings"
   ]
  },
  {
   "cell_type": "markdown",
   "id": "3ce2fb35-664f-4152-8720-e8e60a46b0b4",
   "metadata": {},
   "source": [
    "## Stucking the Numeric, String Data and Headers"
   ]
  },
  {
   "cell_type": "code",
   "execution_count": null,
   "id": "a939e20e-3c5f-4a0d-a4c8-26beca0c7e01",
   "metadata": {},
   "outputs": [
    {
     "data": {
      "text/plain": [
       "(10000, 12)"
      ]
     },
     "execution_count": 108,
     "metadata": {},
     "output_type": "execute_result"
    }
   ],
   "source": [
    "pre_processed_data = np.hstack((loan_data_numeric , loan_data_strings))\n",
    "pre_processed_data.shape"
   ]
  },
  {
   "cell_type": "code",
   "execution_count": null,
   "id": "6e84b046-67f2-4f89-b370-72f1b24e9b6e",
   "metadata": {},
   "outputs": [
    {
     "name": "stdout",
     "output_type": "stream",
     "text": [
      "Shape of numeric data: (10000, 6)\n",
      "Shape of string data: (10000, 6)\n",
      "Shape of dataset after stucking numeric and string data: (10000, 12)\n"
     ]
    }
   ],
   "source": [
    "print(f'Shape of numeric data: {loan_data_numeric.shape}')\n",
    "print(f'Shape of string data: {loan_data_strings.shape}')\n",
    "print(f'Shape of dataset after stucking numeric and string data: {pre_processed_data.shape}')"
   ]
  },
  {
   "cell_type": "code",
   "execution_count": null,
   "id": "70919448-7a39-4aad-a14e-ad718f41269c",
   "metadata": {},
   "outputs": [],
   "source": [
    "final_header = np.concatenate((header_numeric, header_strings))"
   ]
  },
  {
   "cell_type": "code",
   "execution_count": null,
   "id": "d31ef652-2017-452b-bc7f-f499a5312bf3",
   "metadata": {},
   "outputs": [
    {
     "data": {
      "text/plain": [
       "array([[  373332.,     9950.,     1000., ...,       21.,        0.,        1.],\n",
       "       [  575239.,    12000.,    12000., ...,       25.,        1.,        2.],\n",
       "       [  707689.,    10000.,    10000., ...,       13.,        1.,        0.],\n",
       "       ...,\n",
       "       [68614880.,     5600.,     5600., ...,        8.,        1.,        1.],\n",
       "       [68615915.,     4000.,     4000., ...,       10.,        1.,        2.],\n",
       "       [68616519.,    21600.,    21600., ...,        3.,        0.,        2.]])"
      ]
     },
     "execution_count": 111,
     "metadata": {},
     "output_type": "execute_result"
    }
   ],
   "source": [
    "# Sorting Dataset by id column\n",
    "pre_processed_data = pre_processed_data[np.argsort(pre_processed_data[:,0])]\n",
    "pre_processed_data"
   ]
  },
  {
   "cell_type": "markdown",
   "id": "85c0ee1c-ee3f-4f58-89e0-3fd244e5372f",
   "metadata": {},
   "source": [
    "## Saving the Pre-processed Data"
   ]
  },
  {
   "cell_type": "code",
   "execution_count": null,
   "id": "287e7c34-6ea1-4a21-8e67-d07c5ec72d14",
   "metadata": {},
   "outputs": [],
   "source": [
    "pre_processed_data = np.vstack((final_header, pre_processed_data))"
   ]
  },
  {
   "cell_type": "code",
   "execution_count": null,
   "id": "ababb3c1-ab45-42ab-b523-3dd47077455b",
   "metadata": {},
   "outputs": [],
   "source": [
    "np.savetxt(\"pre_processed_loan-data.csv\", \n",
    "           pre_processed_data, \n",
    "           fmt = '%s',\n",
    "           delimiter = ',')"
   ]
  }
 ],
 "metadata": {
  "kernelspec": {
   "display_name": "Python 3 (ipykernel)",
   "language": "python",
   "name": "python3"
  },
  "language_info": {
   "codemirror_mode": {
    "name": "ipython",
    "version": 3
   },
   "file_extension": ".py",
   "mimetype": "text/x-python",
   "name": "python",
   "nbconvert_exporter": "python",
   "pygments_lexer": "ipython3",
   "version": "3.9.7"
  }
 },
 "nbformat": 4,
 "nbformat_minor": 5
}
